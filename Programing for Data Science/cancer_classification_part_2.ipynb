{
 "cells": [
  {
   "cell_type": "markdown",
   "metadata": {
    "collapsed": true
   },
   "source": [
    "## Team 14\n",
    "## Ki Bbum Cho\n",
    "## Xiaocheng Ji\n",
    "## Steven Simione\n",
    "\n",
    "# Cancer Classification"
   ]
  },
  {
   "cell_type": "code",
   "execution_count": 28,
   "metadata": {},
   "outputs": [],
   "source": [
    "#import the needed libraries\n",
    "\n",
    "import numpy as np\n",
    "import pandas as pd\n",
    "import scipy.io\n",
    "from sklearn import svm\n",
    "from sklearn.model_selection import train_test_split\n",
    "from sklearn.naive_bayes import GaussianNB\n",
    "import matplotlib.pyplot as plt\n",
    "from sklearn.datasets.samples_generator import make_blobs\n",
    "from sklearn.datasets import make_classification\n",
    "from sklearn.ensemble import RandomForestClassifier"
   ]
  },
  {
   "cell_type": "code",
   "execution_count": 29,
   "metadata": {
    "scrolled": true
   },
   "outputs": [],
   "source": [
    "# read the data from mat file, scipy has a function loadmat that does it\n",
    "\n",
    "data = scipy.io.loadmat('CSE391_classificatin_project.mat')"
   ]
  },
  {
   "cell_type": "code",
   "execution_count": 30,
   "metadata": {
    "scrolled": true
   },
   "outputs": [
    {
     "name": "stdout",
     "output_type": "stream",
     "text": [
      "X shape:  (250, 200)\n",
      "Y shape:  (250, 200)\n"
     ]
    }
   ],
   "source": [
    "# Get each goup data and transpose them since patients are the samples and the genes are the features. \n",
    "# The transpose was done by putting the X and Y data into numpy arrays first, then put in Pandas DataFrame\n",
    "\n",
    "X = pd.DataFrame(np.array(data['X']).T)\n",
    "Y = pd.DataFrame(np.array(data['Y']).T)\n",
    "\n",
    "# the shape of the X and Y will be the transposed shape of (200,250)\n",
    "\n",
    "print(\"X shape: \", X.shape)\n",
    "print(\"Y shape: \", Y.shape)"
   ]
  },
  {
   "cell_type": "code",
   "execution_count": 31,
   "metadata": {},
   "outputs": [],
   "source": [
    "# Create labels for each data set, the zeros are labels for X and ones and labels for Y\n",
    "\n",
    "xLables = np.zeros(250)\n",
    "yLables = np.ones(250)"
   ]
  },
  {
   "cell_type": "code",
   "execution_count": 32,
   "metadata": {},
   "outputs": [
    {
     "name": "stdout",
     "output_type": "stream",
     "text": [
      "Whole data shape:  (500, 200)\n",
      "Whole data lables shape:  (500,)\n"
     ]
    }
   ],
   "source": [
    "# Concatenate the two data sets and concatenate the labels for the whole data\n",
    "# data is concatnated by using pandas concat function, the array is done by np.concatenate function\n",
    "\n",
    "wholeData = pd.concat([X,Y])\n",
    "wholeDataLabels= np.concatenate([xLables, yLables])\n",
    "\n",
    "# the total data shape should be (500,200) and the label should be just 250 zeros and 250 ones, in total of (500,)\n",
    "print(\"Whole data shape: \", wholeData.shape)\n",
    "print(\"Whole data lables shape: \", wholeDataLabels.shape)"
   ]
  },
  {
   "cell_type": "code",
   "execution_count": 33,
   "metadata": {
    "scrolled": true
   },
   "outputs": [
    {
     "name": "stdout",
     "output_type": "stream",
     "text": [
      "X train shape:  (200, 200)\n",
      "X test shape:  (50, 200)\n"
     ]
    }
   ],
   "source": [
    "# Generate 200 train data and 50 test data from X\n",
    "# by putting X, xLabels, set the test size of 50 and train size of 200\n",
    "\n",
    "xtrain, xtest, xtrain_labels, xtest_labels = train_test_split(X, xLables,test_size=50,train_size=200)\n",
    "print(\"X train shape: \", xtrain.shape)\n",
    "print(\"X test shape: \", xtest.shape)"
   ]
  },
  {
   "cell_type": "code",
   "execution_count": 34,
   "metadata": {},
   "outputs": [
    {
     "name": "stdout",
     "output_type": "stream",
     "text": [
      "Y train shape:  (200, 200)\n",
      "Y test shape:  (50, 200)\n"
     ]
    }
   ],
   "source": [
    "# Gnerate 200 train data and 50 test data from Y\n",
    "# by putting Y, yLabels, set the test size of 50 and train size of 200\n",
    "\n",
    "ytrain, ytest, ytrain_labels, ytest_labels = train_test_split(Y ,yLables,test_size=50,train_size=200,random_state=42)\n",
    "print(\"Y train shape: \", xtrain.shape)\n",
    "print(\"Y test shape: \", xtest.shape)"
   ]
  },
  {
   "cell_type": "code",
   "execution_count": 35,
   "metadata": {},
   "outputs": [
    {
     "name": "stdout",
     "output_type": "stream",
     "text": [
      "Train data shape:  (400, 200)\n",
      "Train labels shape:  (400,)\n"
     ]
    }
   ],
   "source": [
    "# Combine X and Y train data and lables\n",
    "\n",
    "combinedTrain = pd.concat([xtrain,ytrain],axis=0)\n",
    "combinedTrainLabels = np.concatenate([xtrain_labels, ytrain_labels])\n",
    "\n",
    "# print the shape for combinedTrain\n",
    "\n",
    "print(\"Train data shape: \", combinedTrain.shape)\n",
    "print(\"Train labels shape: \", combinedTrainLabels.shape)"
   ]
  },
  {
   "cell_type": "code",
   "execution_count": 36,
   "metadata": {},
   "outputs": [
    {
     "name": "stdout",
     "output_type": "stream",
     "text": [
      "Test data shape:  (100, 200)\n",
      "Test Labels shape:  (100,)\n"
     ]
    }
   ],
   "source": [
    "# Combine X and Y test data and lables\n",
    "\n",
    "combinedTest = pd.concat([xtest,ytest],axis=0)\n",
    "combinedTestLabels = np.concatenate([xtest_labels,ytest_labels])\n",
    "\n",
    "# print the shape for combinedTest\n",
    "\n",
    "print(\"Test data shape: \", combinedTest.shape)\n",
    "print(\"Test Labels shape: \", combinedTestLabels.shape)"
   ]
  },
  {
   "cell_type": "code",
   "execution_count": 37,
   "metadata": {},
   "outputs": [],
   "source": [
    "# Classifier 1= Use Random Forest Classfier\n",
    "\n",
    "clf = RandomForestClassifier(max_depth=2, random_state=0)"
   ]
  },
  {
   "cell_type": "code",
   "execution_count": 38,
   "metadata": {
    "scrolled": true
   },
   "outputs": [
    {
     "data": {
      "text/plain": [
       "RandomForestClassifier(bootstrap=True, class_weight=None, criterion='gini',\n",
       "            max_depth=2, max_features='auto', max_leaf_nodes=None,\n",
       "            min_impurity_decrease=0.0, min_impurity_split=None,\n",
       "            min_samples_leaf=1, min_samples_split=2,\n",
       "            min_weight_fraction_leaf=0.0, n_estimators=10, n_jobs=1,\n",
       "            oob_score=False, random_state=0, verbose=0, warm_start=False)"
      ]
     },
     "execution_count": 38,
     "metadata": {},
     "output_type": "execute_result"
    }
   ],
   "source": [
    "# Train with our train data\n",
    "\n",
    "clf.fit(combinedTrain, combinedTrainLabels)"
   ]
  },
  {
   "cell_type": "code",
   "execution_count": 39,
   "metadata": {},
   "outputs": [
    {
     "name": "stdout",
     "output_type": "stream",
     "text": [
      "Predict result:  [0. 0. 0. 0. 0. 0. 0. 0. 0. 0. 0. 0. 0. 0. 0. 0. 0. 0. 0. 0. 0. 0. 0. 0.\n",
      " 0. 0. 0. 0. 0. 0. 0. 0. 0. 0. 0. 0. 0. 0. 0. 0. 0. 0. 0. 0. 0. 0. 0. 0.\n",
      " 0. 0. 1. 1. 1. 1. 1. 1. 1. 1. 1. 1. 1. 1. 1. 1. 1. 1. 1. 1. 1. 1. 1. 1.\n",
      " 1. 1. 1. 1. 1. 1. 1. 1. 1. 1. 1. 1. 1. 1. 1. 1. 1. 1. 1. 1. 1. 1. 1. 1.\n",
      " 1. 1. 1. 1.]\n"
     ]
    }
   ],
   "source": [
    "# Predict the test data\n",
    "\n",
    "y_pred = clf.predict(combinedTest)\n",
    "print(\"Predict result: \", clf.predict(combinedTest))"
   ]
  },
  {
   "cell_type": "code",
   "execution_count": 40,
   "metadata": {},
   "outputs": [
    {
     "name": "stdout",
     "output_type": "stream",
     "text": [
      "[0.  0.  0.  0.1 0.  0.  0.  0.  0.  0.1 0.  0.  0.  0.  0.  0.  0.  0.\n",
      " 0.  0.  0.  0.  0.  0.  0.  0.  0.  0.  0.  0.  0.  0.  0.  0.  0.  0.\n",
      " 0.  0.  0.  0.  0.1 0.  0.  0.  0.  0.  0.  0.  0.  0.  0.  0.  0.  0.\n",
      " 0.  0.1 0.  0.  0.  0.  0.  0.  0.  0.  0.  0.  0.  0.1 0.  0.  0.  0.\n",
      " 0.  0.  0.  0.  0.  0.  0.  0.  0.  0.  0.  0.  0.  0.  0.  0.  0.  0.\n",
      " 0.  0.  0.  0.  0.  0.  0.  0.  0.  0.  0.  0.  0.1 0.  0.  0.  0.  0.\n",
      " 0.  0.  0.  0.  0.  0.  0.  0.  0.  0.  0.  0.  0.  0.  0.  0.  0.  0.\n",
      " 0.  0.  0.  0.  0.  0.1 0.  0.  0.  0.  0.  0.  0.  0.  0.  0.  0.  0.\n",
      " 0.  0.  0.  0.  0.  0.  0.  0.  0.  0.  0.  0.  0.  0.  0.  0.  0.  0.\n",
      " 0.  0.  0.  0.  0.  0.  0.  0.  0.  0.  0.  0.  0.  0.  0.1 0.1 0.  0.\n",
      " 0.  0.  0.  0.  0.1 0.  0.  0.  0.  0.  0.  0.  0.  0.  0.  0.  0.  0.\n",
      " 0.  0. ]\n"
     ]
    }
   ],
   "source": [
    "# printing the importances\n",
    "\n",
    "print(clf.feature_importances_)"
   ]
  },
  {
   "cell_type": "code",
   "execution_count": 41,
   "metadata": {},
   "outputs": [
    {
     "data": {
      "image/png": "[encoded data removed]",
      "text/plain": [
       "<matplotlib.figure.Figure at 0x1a1bd72390>"
      ]
     },
     "metadata": {},
     "output_type": "display_data"
    }
   ],
   "source": [
    "# Print the confusion matrix\n",
    "\n",
    "from sklearn.metrics import confusion_matrix\n",
    "import seaborn as sn\n",
    "\n",
    "cnf_matrix = confusion_matrix(combinedTestLabels, y_pred)\n",
    "\n",
    "df_cm = pd.DataFrame(cnf_matrix, [0,1], [0,1])\n",
    "plt.figure(figsize = (3 ,3))\n",
    "sn.set(font_scale=2)#for label size\n",
    "sn.heatmap(df_cm, annot=True,annot_kws={\"size\": 20})# font size\n",
    "plt.show()"
   ]
  },
  {
   "cell_type": "code",
   "execution_count": 42,
   "metadata": {},
   "outputs": [
    {
     "data": {
      "image/png": "[encoded data removed]",
      "text/plain": [
       "<matplotlib.figure.Figure at 0x1a1bd724e0>"
      ]
     },
     "metadata": {},
     "output_type": "display_data"
    }
   ],
   "source": [
    "# normalized confusion matrix\n",
    "\n",
    "cnf_matrix = cnf_matrix.astype('float') / cnf_matrix.sum(axis=1)[:, np.newaxis]\n",
    "df_cm = pd.DataFrame(cnf_matrix, [0,1], [0,1])\n",
    "plt.figure(figsize = (3 ,3))\n",
    "sn.set(font_scale=2)#for label size\n",
    "sn.heatmap(df_cm, annot=True,annot_kws={\"size\": 20})# font size\n",
    "plt.show()"
   ]
  },
  {
   "cell_type": "code",
   "execution_count": 43,
   "metadata": {
    "scrolled": true
   },
   "outputs": [
    {
     "name": "stdout",
     "output_type": "stream",
     "text": [
      "population: 100\n",
      "P: 50\n",
      "N: 50\n",
      "PositiveTest: 50\n",
      "NegativeTest: 50\n",
      "TP: 50\n",
      "TN: 50\n",
      "FP: 0\n",
      "FN: 0\n",
      "TPR: 1.0\n",
      "TNR: 1.0\n",
      "PPV: 1.0\n",
      "NPV: 1.0\n",
      "FPR: 0.0\n",
      "FDR: 0.0\n",
      "FNR: 0.0\n",
      "ACC: 1.0\n",
      "F1_score: 1.0\n",
      "MCC: 1.0\n",
      "informedness: 1.0\n",
      "markedness: 1.0\n",
      "prevalence: 0.5\n",
      "LRP: inf\n",
      "LRN: 0.0\n",
      "DOR: inf\n",
      "FOR: 0.0\n"
     ]
    },
    {
     "name": "stderr",
     "output_type": "stream",
     "text": [
      "/anaconda3/lib/python3.6/site-packages/pandas_ml/confusion_matrix/bcm.py:332: RuntimeWarning: divide by zero encountered in double_scalars\n",
      "  return(np.float64(self.TPR) / self.FPR)\n"
     ]
    }
   ],
   "source": [
    "#Getting the stats, comparing the values\n",
    "\n",
    "from pandas_ml import ConfusionMatrix\n",
    "cm = ConfusionMatrix(combinedTestLabels, y_pred)\n",
    "\n",
    "# printing the stats, FDR, F1 values\n",
    "\n",
    "cm.print_stats()"
   ]
  },
  {
   "cell_type": "code",
   "execution_count": 44,
   "metadata": {},
   "outputs": [
    {
     "name": "stdout",
     "output_type": "stream",
     "text": [
      "[1. 1. 1. 1. 1.]\n",
      "Accuracy: 1.00 ( 0.00)\n"
     ]
    }
   ],
   "source": [
    "# do 5-fold cross validation and get accuracy\n",
    "\n",
    "from sklearn.model_selection import cross_val_score\n",
    "scores = cross_val_score(clf, wholeData, wholeDataLabels, cv=5)\n",
    "print(scores)\n",
    "print(\"Accuracy: %0.2f ( %0.2f)\" % (scores.mean(), scores.std() * 2))"
   ]
  },
  {
   "cell_type": "code",
   "execution_count": 45,
   "metadata": {
    "scrolled": true
   },
   "outputs": [
    {
     "name": "stdout",
     "output_type": "stream",
     "text": [
      "Predict result:  [0. 0. 0. 0. 0. 0. 0. 0. 0. 0. 0. 0. 0. 0. 0. 0. 0. 0. 0. 0. 0. 0. 0. 0.\n",
      " 0. 0. 0. 0. 0. 0. 0. 0. 0. 0. 0. 0. 0. 0. 0. 0. 0. 0. 0. 0. 0. 0. 0. 0.\n",
      " 0. 0. 1. 1. 1. 1. 1. 1. 1. 1. 1. 1. 1. 1. 1. 1. 1. 1. 1. 1. 1. 1. 1. 1.\n",
      " 1. 1. 1. 1. 1. 1. 1. 1. 1. 1. 1. 1. 1. 1. 1. 1. 1. 1. 1. 1. 1. 1. 1. 1.\n",
      " 1. 1. 1. 1.]\n"
     ]
    }
   ],
   "source": [
    "# Classifier 2= Use SVC classifier\n",
    "\n",
    "from sklearn.svm import SVC\n",
    "svc_clf = SVC()\n",
    "clf.fit(combinedTrain, combinedTrainLabels)\n",
    "\n",
    "# Predict the test data\n",
    "\n",
    "y_pred = clf.predict(combinedTest)\n",
    "print(\"Predict result: \", clf.predict(combinedTest))"
   ]
  },
  {
   "cell_type": "code",
   "execution_count": 46,
   "metadata": {},
   "outputs": [
    {
     "data": {
      "image/png": "[encoded data removed]",
      "text/plain": [
       "<matplotlib.figure.Figure at 0x1a1bd72748>"
      ]
     },
     "metadata": {},
     "output_type": "display_data"
    }
   ],
   "source": [
    "# Print the normalized confusion matrix\n",
    "\n",
    "from sklearn.metrics import confusion_matrix\n",
    "import seaborn as sn\n",
    "cnf_matrix = confusion_matrix(combinedTestLabels, y_pred)\n",
    "cnf_matrix = cnf_matrix.astype('float') / cnf_matrix.sum(axis=1)[:, np.newaxis]\n",
    "df_cm = pd.DataFrame(cnf_matrix, [0,1], [0,1])\n",
    "plt.figure(figsize = (3 ,3))\n",
    "sn.set(font_scale=2)#for label size\n",
    "sn.heatmap(df_cm, annot=True,annot_kws={\"size\": 20})# font size\n",
    "plt.show()"
   ]
  },
  {
   "cell_type": "code",
   "execution_count": 47,
   "metadata": {
    "scrolled": true
   },
   "outputs": [
    {
     "name": "stdout",
     "output_type": "stream",
     "text": [
      "population: 100\n",
      "P: 50\n",
      "N: 50\n",
      "PositiveTest: 50\n",
      "NegativeTest: 50\n",
      "TP: 50\n",
      "TN: 50\n",
      "FP: 0\n",
      "FN: 0\n",
      "TPR: 1.0\n",
      "TNR: 1.0\n",
      "PPV: 1.0\n",
      "NPV: 1.0\n",
      "FPR: 0.0\n",
      "FDR: 0.0\n",
      "FNR: 0.0\n",
      "ACC: 1.0\n",
      "F1_score: 1.0\n",
      "MCC: 1.0\n",
      "informedness: 1.0\n",
      "markedness: 1.0\n",
      "prevalence: 0.5\n",
      "LRP: inf\n",
      "LRN: 0.0\n",
      "DOR: inf\n",
      "FOR: 0.0\n"
     ]
    },
    {
     "name": "stderr",
     "output_type": "stream",
     "text": [
      "/anaconda3/lib/python3.6/site-packages/pandas_ml/confusion_matrix/bcm.py:332: RuntimeWarning: divide by zero encountered in double_scalars\n",
      "  return(np.float64(self.TPR) / self.FPR)\n"
     ]
    }
   ],
   "source": [
    "#Getting the stats, comparing the values\n",
    "\n",
    "from pandas_ml import ConfusionMatrix\n",
    "cm = ConfusionMatrix(combinedTestLabels, y_pred)\n",
    "\n",
    "# printing the stats, FDR, F1 values\n",
    "\n",
    "cm.print_stats()"
   ]
  },
  {
   "cell_type": "code",
   "execution_count": 48,
   "metadata": {},
   "outputs": [
    {
     "name": "stdout",
     "output_type": "stream",
     "text": [
      "[0.99 0.97 0.93 0.92 0.95]\n",
      "Accuracy: 0.95 ( 0.05)\n"
     ]
    }
   ],
   "source": [
    "# do 5-fold cross validation and get the accuracy\n",
    "\n",
    "from sklearn.model_selection import cross_val_score\n",
    "scores = cross_val_score(svc_clf, wholeData, wholeDataLabels, cv=5)\n",
    "print(scores)\n",
    "print(\"Accuracy: %0.2f ( %0.2f)\" % (scores.mean(), scores.std() * 2))"
   ]
  },
  {
   "cell_type": "code",
   "execution_count": 49,
   "metadata": {},
   "outputs": [
    {
     "name": "stdout",
     "output_type": "stream",
     "text": [
      "Predict result:  [0. 0. 0. 0. 0. 0. 0. 0. 0. 0. 0. 0. 0. 0. 0. 0. 0. 0. 0. 0. 0. 0. 0. 0.\n",
      " 0. 0. 0. 0. 0. 0. 0. 0. 0. 0. 0. 0. 0. 0. 0. 0. 0. 0. 0. 0. 0. 0. 0. 0.\n",
      " 0. 0. 1. 1. 1. 1. 1. 1. 1. 1. 1. 1. 1. 1. 1. 1. 1. 1. 1. 1. 1. 1. 1. 1.\n",
      " 1. 1. 1. 1. 1. 1. 1. 1. 1. 1. 1. 1. 1. 1. 1. 1. 1. 1. 1. 1. 1. 1. 1. 1.\n",
      " 1. 1. 1. 1.]\n"
     ]
    }
   ],
   "source": [
    "# Classifier 3= Use GaussianNB classifier\n",
    "\n",
    "clf = GaussianNB()\n",
    "clf.fit(combinedTrain, combinedTrainLabels)\n",
    "\n",
    "# Predict the test data\n",
    "\n",
    "y_pred = clf.predict(combinedTest)\n",
    "print(\"Predict result: \", clf.predict(combinedTest))"
   ]
  },
  {
   "cell_type": "code",
   "execution_count": 50,
   "metadata": {},
   "outputs": [
    {
     "data": {
      "image/png": "[encoded data removed]",
      "text/plain": [
       "<matplotlib.figure.Figure at 0x1a1b1b07f0>"
      ]
     },
     "metadata": {},
     "output_type": "display_data"
    }
   ],
   "source": [
    "# Print the normalized confusion matrix\n",
    "\n",
    "from sklearn.metrics import confusion_matrix\n",
    "import seaborn as sn\n",
    "cnf_matrix = confusion_matrix(combinedTestLabels, y_pred)\n",
    "cnf_matrix = cnf_matrix.astype('float') / cnf_matrix.sum(axis=1)[:, np.newaxis]\n",
    "df_cm = pd.DataFrame(cnf_matrix, [0,1], [0,1])\n",
    "plt.figure(figsize = (3 ,3))\n",
    "sn.set(font_scale=2)#for label size\n",
    "sn.heatmap(df_cm, annot=True,annot_kws={\"size\": 20})# font size\n",
    "plt.show()"
   ]
  },
  {
   "cell_type": "code",
   "execution_count": 51,
   "metadata": {
    "scrolled": true
   },
   "outputs": [
    {
     "name": "stdout",
     "output_type": "stream",
     "text": [
      "population: 100\n",
      "P: 50\n",
      "N: 50\n",
      "PositiveTest: 50\n",
      "NegativeTest: 50\n",
      "TP: 50\n",
      "TN: 50\n",
      "FP: 0\n",
      "FN: 0\n",
      "TPR: 1.0\n",
      "TNR: 1.0\n",
      "PPV: 1.0\n",
      "NPV: 1.0\n",
      "FPR: 0.0\n",
      "FDR: 0.0\n",
      "FNR: 0.0\n",
      "ACC: 1.0\n",
      "F1_score: 1.0\n",
      "MCC: 1.0\n",
      "informedness: 1.0\n",
      "markedness: 1.0\n",
      "prevalence: 0.5\n",
      "LRP: inf\n",
      "LRN: 0.0\n",
      "DOR: inf\n",
      "FOR: 0.0\n"
     ]
    },
    {
     "name": "stderr",
     "output_type": "stream",
     "text": [
      "/anaconda3/lib/python3.6/site-packages/pandas_ml/confusion_matrix/bcm.py:332: RuntimeWarning: divide by zero encountered in double_scalars\n",
      "  return(np.float64(self.TPR) / self.FPR)\n"
     ]
    }
   ],
   "source": [
    "#Getting the stats, comparing the values\n",
    "\n",
    "from pandas_ml import ConfusionMatrix\n",
    "cm = ConfusionMatrix(combinedTestLabels, y_pred)\n",
    "\n",
    "# printing the stats, FDR, F1 values\n",
    "\n",
    "cm.print_stats()"
   ]
  },
  {
   "cell_type": "code",
   "execution_count": 52,
   "metadata": {},
   "outputs": [
    {
     "name": "stdout",
     "output_type": "stream",
     "text": [
      "[1. 1. 1. 1. 1.]\n",
      "Accuracy: 1.00 ( 0.00)\n"
     ]
    }
   ],
   "source": [
    "# do 5-fold cross validation and get the accuracy\n",
    "\n",
    "from sklearn.model_selection import cross_val_score\n",
    "scores = cross_val_score(clf, wholeData, wholeDataLabels, cv=5)\n",
    "print(scores)\n",
    "print(\"Accuracy: %0.2f ( %0.2f)\" % (scores.mean(), scores.std() * 2))"
   ]
  },
  {
   "cell_type": "code",
   "execution_count": null,
   "metadata": {
    "collapsed": true
   },
   "outputs": [],
   "source": []
  }
 ],
 "metadata": {
  "kernelspec": {
   "display_name": "Python 3",
   "language": "python",
   "name": "python3"
  },
  "language_info": {
   "codemirror_mode": {
    "name": "ipython",
    "version": 3
   },
   "file_extension": ".py",
   "mimetype": "text/x-python",
   "name": "python",
   "nbconvert_exporter": "python",
   "pygments_lexer": "ipython3",
   "version": "3.6.4"
  }
 },
 "nbformat": 4,
 "nbformat_minor": 2
}
